{
 "cells": [
  {
   "cell_type": "markdown",
   "metadata": {},
   "source": [
    "Before you turn this problem in, make sure everything runs as expected. First, **restart the kernel** (in the menubar, select Kernel$\\rightarrow$Restart) and then **run all cells** (in the menubar, select Cell$\\rightarrow$Run All).\n",
    "\n",
    "Make sure you fill in any place that says `YOUR CODE HERE` or \"YOUR ANSWER HERE\", as well as your name and collaborators below:"
   ]
  },
  {
   "cell_type": "code",
   "execution_count": null,
   "metadata": {},
   "outputs": [],
   "source": [
    "NAME = \"Vincent Kim\"\n",
    "COLLABORATORS = \"\""
   ]
  },
  {
   "cell_type": "markdown",
   "metadata": {},
   "source": [
    "---"
   ]
  },
  {
   "cell_type": "markdown",
   "metadata": {
    "deletable": false,
    "editable": false,
    "nbgrader": {
     "checksum": "61cb5fd48672f7fe2deeb6f01680b9d7",
     "grade": false,
     "grade_id": "cell-3a4ff94b0637e50b",
     "locked": true,
     "schema_version": 1,
     "solution": false
    }
   },
   "source": [
    "---\n",
    "# PageRank\n",
    "\n",
    "PageRank is a function that assigns a real number to each page in the Web (or at least to that portion of the Web that has been crawled and its links discovered). The intent is that the higher the PageRank of a page, the more \"important\" it is.\n",
    "\n",
    "Hadoop has its origins in Apache Nutch, an open source web search engine, and one of the first use cases for Big Data technologies and MapReduce was the indexing of millions of webpages. In the following application, we will delve into an implementation of an iterative algorithm, the PageRank, which is well suited to Spark.\n",
    "\n",
    "We will deal with the following simplified web system :\n",
    "\n",
    "![](pagerank.png)\n",
    "\n",
    "We have four web pages (a, b, c, and d) in our system :\n",
    "\n",
    "* Web page A has outbound links to pages B, C, D\n",
    "* Web page B has outbound links to C, D\n",
    "* Web page C has outbound link to B\n",
    "* Web page D has outbound link to A, C\n",
    "\n",
    "We will implement a [simpler version of PageRank](https://en.wikipedia.org/wiki/PageRank#Simplified_algorithm) in PySpark."
   ]
  },
  {
   "cell_type": "code",
   "execution_count": 1,
   "metadata": {
    "deletable": false,
    "editable": false,
    "nbgrader": {
     "checksum": "e91053d427b5879011c180ec29ac1454",
     "grade": false,
     "grade_id": "cell-5a0f6b0e4501ff0f",
     "locked": true,
     "schema_version": 1,
     "solution": false
    }
   },
   "outputs": [
    {
     "data": {
      "text/html": [
       "\n",
       "        <div>\n",
       "            <p><b>SparkContext</b></p>\n",
       "\n",
       "            <p><a href=\"http://172.20.114.190:4043\">Spark UI</a></p>\n",
       "\n",
       "            <dl>\n",
       "              <dt>Version</dt>\n",
       "                <dd><code>v2.4.3</code></dd>\n",
       "              <dt>Master</dt>\n",
       "                <dd><code>local</code></dd>\n",
       "              <dt>AppName</dt>\n",
       "                <dd><code>lecture-lyon2</code></dd>\n",
       "            </dl>\n",
       "        </div>\n",
       "        "
      ],
      "text/plain": [
       "<SparkContext master=local appName=lecture-lyon2>"
      ]
     },
     "execution_count": 1,
     "metadata": {},
     "output_type": "execute_result"
    }
   ],
   "source": [
    "from pyspark import SparkContext, SparkConf\n",
    "\n",
    "conf = SparkConf().setAppName('lecture-lyon2').setMaster('local')\n",
    "sc = SparkContext.getOrCreate(conf=conf)\n",
    "sc"
   ]
  },
  {
   "cell_type": "code",
   "execution_count": 2,
   "metadata": {
    "deletable": false,
    "editable": false,
    "nbgrader": {
     "checksum": "1a7bc52e72be761da2e669def12fa683",
     "grade": false,
     "grade_id": "cell-3bb3414dbe5ef62a",
     "locked": true,
     "schema_version": 1,
     "solution": false
    }
   },
   "outputs": [],
   "source": [
    "from pyspark.rdd import RDD\n",
    "\n",
    "import pandas as pd\n",
    "%matplotlib inline"
   ]
  },
  {
   "cell_type": "markdown",
   "metadata": {
    "deletable": false,
    "editable": false,
    "nbgrader": {
     "checksum": "06ce3d10351ccc2a36942f24a4504520",
     "grade": false,
     "grade_id": "cell-553d68cfb7f21770",
     "locked": true,
     "schema_version": 1,
     "solution": false
    }
   },
   "source": [
    "---\n",
    "## Input Data\n",
    "\n",
    "When crawling the Web for URLs and their neighbors, we will append all the new data in the same file. As such we expect the format to be the following when reading from the filesystem, which is easier to append on :\n",
    "\n",
    "```\n",
    "URL1         neighbor1\n",
    "URL1         neighbor2\n",
    "URL2         neighbor1\n",
    "...\n",
    "```\n",
    "\n",
    "We prefer to work on a data structure where all neighbors of the same URL are grouped on one line:\n",
    "\n",
    "```\n",
    "URL1   [neighbor1, neighbor2]\n",
    "URL2   [neighbor1]\n",
    "...\n",
    "```\n",
    "\n",
    "Let's build two functions to alternate between both representations."
   ]
  },
  {
   "cell_type": "markdown",
   "metadata": {
    "deletable": false,
    "editable": false,
    "nbgrader": {
     "checksum": "44db1124a4e068a5489d11cd0ae1495e",
     "grade": false,
     "grade_id": "cell-6b3a76574dbacb60",
     "locked": true,
     "schema_version": 1,
     "solution": false
    }
   },
   "source": [
    "# Question\n",
    "\n",
    "Generate a web system as an RDD of tuples (page name, neighbor page name) from a RDD of tuples (page name, list of all neighbors).\n",
    "\n",
    "_Hint: we are working with PairedRDDs here, don't hesitate to check the [API reference](https://spark.apache.org/docs/2.2.0/api/python/pyspark.html#pyspark.RDD) of RDDs for functions like `mapValues` or `flatMapValues`_"
   ]
  },
  {
   "cell_type": "code",
   "execution_count": null,
   "metadata": {},
   "outputs": [],
   "source": []
  },
  {
   "cell_type": "code",
   "execution_count": 7,
   "metadata": {
    "deletable": false,
    "nbgrader": {
     "checksum": "e0d42803b5eb49494dd69e25bba9529c",
     "grade": false,
     "grade_id": "cell-ba01e9815a0baede",
     "locked": false,
     "schema_version": 1,
     "solution": true
    }
   },
   "outputs": [],
   "source": [
    "def ungroup_input(sc, system):\n",
    "    \"\"\"\n",
    "    Generate the websystem as an RDD of tuples (page, neighbor page)\n",
    "    \"\"\"\n",
    "    return system.flatMapValues(lambda x: x)\n",
    "    raise NotImplementedError()"
   ]
  },
  {
   "cell_type": "code",
   "execution_count": 8,
   "metadata": {
    "deletable": false,
    "editable": false,
    "nbgrader": {
     "checksum": "f204b6dcaa7ff0c6f5bd8593e70e4ee6",
     "grade": true,
     "grade_id": "cell-78ea834aed419021",
     "locked": true,
     "points": 2,
     "schema_version": 1,
     "solution": false
    }
   },
   "outputs": [],
   "source": [
    "\"\"\"\n",
    "Graded cell\n",
    "\n",
    "2 points\n",
    "\"\"\"\n",
    "system = sc.parallelize([\n",
    "        ('a', ['b','c','d']),\n",
    "        ('c', ['b']), \n",
    "        ('b', ['c','d']), \n",
    "        ('d', ['a','c'])\n",
    "    ])\n",
    "result = ungroup_input(sc, system).collect()\n",
    "assert result == [\n",
    "    ('a', 'b'), ('a', 'c'), ('a', 'd'), \n",
    "    ('c', 'b'), \n",
    "    ('b', 'c'), ('b', 'd'), \n",
    "    ('d', 'a'), ('d', 'c')\n",
    "]"
   ]
  },
  {
   "cell_type": "markdown",
   "metadata": {
    "deletable": false,
    "editable": false,
    "nbgrader": {
     "checksum": "cbdd0da478a38ab685ee9a3fa0a0e930",
     "grade": false,
     "grade_id": "cell-0f33e18a12b0b887",
     "locked": true,
     "schema_version": 1,
     "solution": false
    }
   },
   "source": [
    "# Question\n",
    "\n",
    "The inverse of the previous question.\n",
    "\n",
    "_Hint: don't hesitate to collect and print your RDD. You may most notably find out that `pyspark.resultiterable.ResultIterable\n",
    "` is not the result we want_"
   ]
  },
  {
   "cell_type": "code",
   "execution_count": null,
   "metadata": {},
   "outputs": [],
   "source": []
  },
  {
   "cell_type": "code",
   "execution_count": 33,
   "metadata": {
    "deletable": false,
    "nbgrader": {
     "checksum": "b8ea1ada5d35d91e13bf574c372638cd",
     "grade": false,
     "grade_id": "cell-aefe881e9174aa9f",
     "locked": false,
     "schema_version": 1,
     "solution": true
    }
   },
   "outputs": [
    {
     "data": {
      "text/plain": [
       "PythonRDD[105] at RDD at PythonRDD.scala:53"
      ]
     },
     "execution_count": 33,
     "metadata": {},
     "output_type": "execute_result"
    }
   ],
   "source": [
    "def group_input(sc, system):\n",
    "    \"\"\"\n",
    "    Generate the websystem as an RDD of tuples (page, list of neighbors)\n",
    "    \"\"\"\n",
    "    return system.groupByKey().mapValues(list)\n",
    "    raise NotImplementedError()\n",
    "system = sc.parallelize([('a', 'b'), ('a', 'c'), ('a', 'd'), ('c', 'b'), ('b', 'c'), ('b', 'd'), ('d', 'a'), ('d', 'c')])\n",
    "group_input(sc, system)"
   ]
  },
  {
   "cell_type": "code",
   "execution_count": 34,
   "metadata": {
    "deletable": false,
    "editable": false,
    "nbgrader": {
     "checksum": "8c04fdc38a83dad5214fbb1c1ee0b445",
     "grade": true,
     "grade_id": "cell-6d4738d3810854af",
     "locked": true,
     "points": 2,
     "schema_version": 1,
     "solution": false
    }
   },
   "outputs": [],
   "source": [
    "\"\"\"\n",
    "Graded cell\n",
    "\n",
    "2 points\n",
    "\"\"\"\n",
    "system = sc.parallelize([('a', 'b'), ('a', 'c'), ('a', 'd'), ('c', 'b'), ('b', 'c'), ('b', 'd'), ('d', 'a'), ('d', 'c')])\n",
    "result = group_input(sc, system).collect()\n",
    "assert result == [\n",
    "        ('a', ['b','c','d']),\n",
    "        ('c', ['b']), \n",
    "        ('b', ['c','d']), \n",
    "        ('d', ['a','c'])\n",
    "    ]"
   ]
  },
  {
   "cell_type": "markdown",
   "metadata": {
    "deletable": false,
    "editable": false,
    "nbgrader": {
     "checksum": "c66d6b66022c7f7fbbbb45d4bbb36089",
     "grade": false,
     "grade_id": "cell-4b58d1f608f8b2d1",
     "locked": true,
     "schema_version": 1,
     "solution": false
    }
   },
   "source": [
    "---\n",
    "## Page contributions\n",
    "\n",
    "At each iteration, we need to compute URL contributions to the rank of other URLs. The PageRank transferred from a given page to the targets of its outbound links upon the next iteration is divided equally among all outbound links.\n",
    "\n",
    "$$Contribution\\ to\\ a\\ page = \\frac{pagerank\\ of\\ contributing\\ page}{number\\ outbound\\ links\\ from\\ contributing\\ page}$$\n",
    "\n",
    "Then, for a page, we will sum the contribution of every page linking to the page.\n",
    "\n",
    "Finally, the update pagerank for a page, given a damping factor $s$ will be :\n",
    "\n",
    "$$ pagerank(u) = 1 - s + s \\times \\sum_{v \\in B_u} \\frac{pagerank(v)}{L(v)} $$\n",
    "\n",
    "i.e. the PageRank value for a page $u$ is dependent on the PageRank values for each page $v$ contained in the set $B_u$ (the set containing all pages linking to page $u$), divided by the number $L(v)$ of links from page $v$.\n",
    "\n",
    "<hr>\n",
    "\n",
    "# Question\n",
    "\n",
    "First, we are going to build the page contribution of a page to a set of outbound urls in `computeContribs(urls, rank)`. The first arugment gives the outbound links of a page, the second argument gives the rank of the page, and we return a list of tuples (outbound url, contribution to the outbound url)."
   ]
  },
  {
   "cell_type": "code",
   "execution_count": 108,
   "metadata": {},
   "outputs": [],
   "source": [
    "import fractions"
   ]
  },
  {
   "cell_type": "code",
   "execution_count": 169,
   "metadata": {
    "deletable": false,
    "nbgrader": {
     "checksum": "6109052ca146cc6dfab596224f13fb35",
     "grade": false,
     "grade_id": "cell-c974e73d789a0363",
     "locked": false,
     "schema_version": 1,
     "solution": true
    }
   },
   "outputs": [
    {
     "name": "stdout",
     "output_type": "stream",
     "text": [
      "[('b', 0.3333333333333333), ('c', 0.3333333333333333), ('d', 0.3333333333333333)]\n"
     ]
    }
   ],
   "source": [
    "def computeContribs(urls, rank):\n",
    "    \"\"\"\n",
    "    Calculates URL contributions to the rank of other URLs.\n",
    "    \"\"\"\n",
    "    rdd = sc.parallelize(urls)\n",
    "    rdd_count = rdd.count()\n",
    "    #counts_by_key = rdd.countByKey()\n",
    "    #return sc.parallelize(urls).map(lambda x: (x, Fraction(rank, rdd_count))).collect()\n",
    "    return sc.parallelize(urls).map(lambda x: (x, rank/rdd_count)).collect()\n",
    "    raise NotImplementedError()\n",
    "    \n",
    "print(computeContribs(['b', 'c', 'd'], 1))\n",
    "#print([('b', Fraction(1/3)), ('c', Fraction(1/3)), ('d', Fraction(1/3))])"
   ]
  },
  {
   "cell_type": "code",
   "execution_count": 99,
   "metadata": {
    "deletable": false,
    "editable": false,
    "nbgrader": {
     "checksum": "14389c6ac7c2f4e8605337f13c4160b9",
     "grade": true,
     "grade_id": "cell-c18d834672a4b30e",
     "locked": true,
     "points": 2,
     "schema_version": 1,
     "solution": false
    }
   },
   "outputs": [
    {
     "ename": "AssertionError",
     "evalue": "",
     "output_type": "error",
     "traceback": [
      "\u001b[0;31m---------------------------------------------------------------------------\u001b[0m",
      "\u001b[0;31mAssertionError\u001b[0m                            Traceback (most recent call last)",
      "\u001b[0;32m<ipython-input-99-eff1005f0c0c>\u001b[0m in \u001b[0;36m<module>\u001b[0;34m\u001b[0m\n\u001b[1;32m      4\u001b[0m \u001b[0;36m2\u001b[0m \u001b[0mpoints\u001b[0m\u001b[0;34m\u001b[0m\u001b[0;34m\u001b[0m\u001b[0m\n\u001b[1;32m      5\u001b[0m \"\"\"\n\u001b[0;32m----> 6\u001b[0;31m \u001b[0;32massert\u001b[0m \u001b[0mcomputeContribs\u001b[0m\u001b[0;34m(\u001b[0m\u001b[0;34m[\u001b[0m\u001b[0;34m'b'\u001b[0m\u001b[0;34m,\u001b[0m \u001b[0;34m'c'\u001b[0m\u001b[0;34m,\u001b[0m \u001b[0;34m'd'\u001b[0m\u001b[0;34m]\u001b[0m\u001b[0;34m,\u001b[0m \u001b[0;36m1\u001b[0m\u001b[0;34m)\u001b[0m \u001b[0;34m==\u001b[0m \u001b[0;34m[\u001b[0m\u001b[0;34m(\u001b[0m\u001b[0;34m'b'\u001b[0m\u001b[0;34m,\u001b[0m \u001b[0;36m1\u001b[0m\u001b[0;34m/\u001b[0m\u001b[0;36m3\u001b[0m\u001b[0;34m)\u001b[0m\u001b[0;34m,\u001b[0m \u001b[0;34m(\u001b[0m\u001b[0;34m'c'\u001b[0m\u001b[0;34m,\u001b[0m \u001b[0;36m1\u001b[0m\u001b[0;34m/\u001b[0m\u001b[0;36m3\u001b[0m\u001b[0;34m)\u001b[0m\u001b[0;34m,\u001b[0m \u001b[0;34m(\u001b[0m\u001b[0;34m'd'\u001b[0m\u001b[0;34m,\u001b[0m \u001b[0;36m1\u001b[0m\u001b[0;34m/\u001b[0m\u001b[0;36m3\u001b[0m\u001b[0;34m)\u001b[0m\u001b[0;34m]\u001b[0m\u001b[0;34m\u001b[0m\u001b[0;34m\u001b[0m\u001b[0m\n\u001b[0m",
      "\u001b[0;31mAssertionError\u001b[0m: "
     ]
    }
   ],
   "source": [
    "\"\"\"\n",
    "Graded cell\n",
    "\n",
    "2 points\n",
    "\"\"\"\n",
    "assert computeContribs(['b', 'c', 'd'], 1) == [('b', 1/3), ('c', 1/3), ('d', 1/3)]"
   ]
  },
  {
   "cell_type": "markdown",
   "metadata": {
    "deletable": false,
    "editable": false,
    "nbgrader": {
     "checksum": "0a1775764e63121c36a48f918570cec5",
     "grade": false,
     "grade_id": "cell-55ab1a6e46c1c8a0",
     "locked": true,
     "schema_version": 1,
     "solution": false
    }
   },
   "source": [
    "# Question\n",
    "\n",
    "Build a RDD of contributions, which is an RDD of tuples (URL, contributed rank from some page) using the links and ranks RDD.\n",
    "\n",
    "Following is the structure of each RDD :\n",
    "\n",
    "* links RDD\n",
    "\n",
    "```\n",
    "page1    [list of neighbors to page1]\n",
    "page2    [list of neighbors to page2]\n",
    "...\n",
    "```\n",
    "\n",
    "* ranks RDD\n",
    "\n",
    "```\n",
    "page1    rank1\n",
    "page2    rank2\n",
    "...\n",
    "```"
   ]
  },
  {
   "cell_type": "code",
   "execution_count": null,
   "metadata": {},
   "outputs": [],
   "source": []
  },
  {
   "cell_type": "code",
   "execution_count": 351,
   "metadata": {
    "deletable": false,
    "nbgrader": {
     "checksum": "00ec8b94863b6383c18f1838e9c101bc",
     "grade": false,
     "grade_id": "cell-a30893daa13a4fff",
     "locked": false,
     "schema_version": 1,
     "solution": true
    }
   },
   "outputs": [
    {
     "name": "stdout",
     "output_type": "stream",
     "text": [
      "[('b', 3.0), ('c', 1.0), ('d', 1.0), ('a', 2.0), ('c', 2.0), ('b', 0.3333333333333333), ('c', 0.3333333333333333), ('d', 0.3333333333333333)]\n"
     ]
    }
   ],
   "source": [
    "def generate_contributions(sc, links, ranks):\n",
    "    \"\"\"\n",
    "    Calculates URL contributions to the rank of other URLs.\n",
    "    \"\"\"\n",
    "    counts_by_key = links.flatMapValues(lambda x: x).countByKey()\n",
    "    contributions = links.flatMapValues(lambda x: x).join(ranks)\n",
    "    contributions = contributions.map(lambda x: (x[0], x[1])).map(lambda x: (x[1][0], x[1][1], x[0]))\n",
    "    \n",
    "    #print(counts_by_key)\n",
    "    #contributions = contributions.join(counts_by_key)\n",
    "    \n",
    "    contributions = contributions.map(lambda x: (x[0], (x[1] / (counts_by_key[x[2]]))))\n",
    "    \n",
    "    #print(contributions.collect())\n",
    "    return contributions\n",
    "    raise NotImplementedError()\n",
    "    \n",
    "\n",
    "links = sc.parallelize([\n",
    "        ('a', ['b','c','d']),\n",
    "        ('c', ['b']), \n",
    "        ('b', ['c','d']), \n",
    "        ('d', ['a','c'])\n",
    "    ])\n",
    "\n",
    "ranks = sc.parallelize([\n",
    "        ('a', 1.0),\n",
    "        ('c', 3.0), \n",
    "        ('b', 2.0), \n",
    "        ('d', 4.0)\n",
    "])\n",
    "\n",
    "print(generate_contributions(sc, links, ranks).collect())"
   ]
  },
  {
   "cell_type": "code",
   "execution_count": 164,
   "metadata": {
    "deletable": false,
    "editable": false,
    "nbgrader": {
     "checksum": "80089ed85bac321844a938d46bfc3c2c",
     "grade": true,
     "grade_id": "cell-aac6a42e933c83e7",
     "locked": true,
     "points": 2,
     "schema_version": 1,
     "solution": false
    }
   },
   "outputs": [
    {
     "ename": "AssertionError",
     "evalue": "",
     "output_type": "error",
     "traceback": [
      "\u001b[0;31m---------------------------------------------------------------------------\u001b[0m",
      "\u001b[0;31mAssertionError\u001b[0m                            Traceback (most recent call last)",
      "\u001b[0;32m<ipython-input-164-df0c4cf96d2d>\u001b[0m in \u001b[0;36m<module>\u001b[0;34m\u001b[0m\n\u001b[1;32m     22\u001b[0m     \u001b[0;34m(\u001b[0m\u001b[0;34m'c'\u001b[0m\u001b[0;34m,\u001b[0m \u001b[0;36m1.0\u001b[0m\u001b[0;34m)\u001b[0m\u001b[0;34m,\u001b[0m \u001b[0;34m(\u001b[0m\u001b[0;34m'd'\u001b[0m\u001b[0;34m,\u001b[0m \u001b[0;36m1.0\u001b[0m\u001b[0;34m)\u001b[0m\u001b[0;34m,\u001b[0m \u001b[0;31m# contribution from b\u001b[0m\u001b[0;34m\u001b[0m\u001b[0;34m\u001b[0m\u001b[0m\n\u001b[1;32m     23\u001b[0m     \u001b[0;34m(\u001b[0m\u001b[0;34m'a'\u001b[0m\u001b[0;34m,\u001b[0m \u001b[0;36m2.0\u001b[0m\u001b[0;34m)\u001b[0m\u001b[0;34m,\u001b[0m \u001b[0;34m(\u001b[0m\u001b[0;34m'c'\u001b[0m\u001b[0;34m,\u001b[0m \u001b[0;36m2.0\u001b[0m\u001b[0;34m)\u001b[0m\u001b[0;34m,\u001b[0m \u001b[0;31m# contribution from d\u001b[0m\u001b[0;34m\u001b[0m\u001b[0;34m\u001b[0m\u001b[0m\n\u001b[0;32m---> 24\u001b[0;31m     \u001b[0;34m(\u001b[0m\u001b[0;34m'b'\u001b[0m\u001b[0;34m,\u001b[0m \u001b[0;36m1\u001b[0m\u001b[0;34m/\u001b[0m\u001b[0;36m3\u001b[0m\u001b[0;34m)\u001b[0m\u001b[0;34m,\u001b[0m \u001b[0;34m(\u001b[0m\u001b[0;34m'c'\u001b[0m\u001b[0;34m,\u001b[0m \u001b[0;36m1\u001b[0m\u001b[0;34m/\u001b[0m\u001b[0;36m3\u001b[0m\u001b[0;34m)\u001b[0m\u001b[0;34m,\u001b[0m \u001b[0;34m(\u001b[0m\u001b[0;34m'd'\u001b[0m\u001b[0;34m,\u001b[0m \u001b[0;36m1\u001b[0m\u001b[0;34m/\u001b[0m\u001b[0;36m3\u001b[0m\u001b[0;34m)\u001b[0m \u001b[0;31m# contribution from a\u001b[0m\u001b[0;34m\u001b[0m\u001b[0;34m\u001b[0m\u001b[0m\n\u001b[0m\u001b[1;32m     25\u001b[0m ]\n",
      "\u001b[0;31mAssertionError\u001b[0m: "
     ]
    }
   ],
   "source": [
    "\"\"\"\n",
    "Graded cell\n",
    "\n",
    "2 points\n",
    "\"\"\"\n",
    "links = sc.parallelize([\n",
    "        ('a', ['b','c','d']),\n",
    "        ('c', ['b']), \n",
    "        ('b', ['c','d']), \n",
    "        ('d', ['a','c'])\n",
    "    ])\n",
    "\n",
    "ranks = sc.parallelize([\n",
    "        ('a', 1.0),\n",
    "        ('c', 3.0), \n",
    "        ('b', 2.0), \n",
    "        ('d', 4.0)\n",
    "])\n",
    "\n",
    "assert generate_contributions(sc, links, ranks).collect() == [\n",
    "    ('b', 3.0), # contribution from c\n",
    "    ('c', 1.0), ('d', 1.0), # contribution from b\n",
    "    ('a', 2.0), ('c', 2.0), # contribution from d\n",
    "    ('b', 1/3), ('c', 1/3), ('d', 1/3) # contribution from a \n",
    "]"
   ]
  },
  {
   "cell_type": "markdown",
   "metadata": {
    "deletable": false,
    "editable": false,
    "nbgrader": {
     "checksum": "58f320919045cad9e9750c8d80e62b88",
     "grade": false,
     "grade_id": "cell-c0df1c21968ddc6c",
     "locked": true,
     "schema_version": 1,
     "solution": false
    }
   },
   "source": [
    "# Question\n",
    "\n",
    "Compute new ranks for each URL by summing all contributions from outbound URL, and applying the damping factor."
   ]
  },
  {
   "cell_type": "code",
   "execution_count": null,
   "metadata": {},
   "outputs": [],
   "source": []
  },
  {
   "cell_type": "code",
   "execution_count": 252,
   "metadata": {
    "deletable": false,
    "nbgrader": {
     "checksum": "ebb7bd68df38a199bf5a8c77cb64b80d",
     "grade": false,
     "grade_id": "cell-25566dc159afc986",
     "locked": false,
     "schema_version": 1,
     "solution": true
    }
   },
   "outputs": [
    {
     "data": {
      "text/plain": [
       "[('b', 2.9833333333333334),\n",
       " ('b', 2.9833333333333334),\n",
       " ('c', 2.9833333333333334),\n",
       " ('c', 2.9833333333333334),\n",
       " ('c', 2.9833333333333334),\n",
       " ('d', 1.2833333333333332),\n",
       " ('d', 1.2833333333333332),\n",
       " ('a', 1.85)]"
      ]
     },
     "execution_count": 252,
     "metadata": {},
     "output_type": "execute_result"
    }
   ],
   "source": [
    "def generate_ranks(sc, contributions, damping):\n",
    "    \"\"\"\n",
    "    Calculates URL contributions to the rank of other URLs.\n",
    "    \"\"\"\n",
    "    contributions_received = contributions.foldByKey(0, lambda x,y: x + y)\n",
    "    return contributions.join(contributions_received).map(lambda x: (x[0], 1 - damping + damping * x[1][1]))\n",
    "    \n",
    "    raise NotImplementedError()\n",
    "    \n",
    "contributions = sc.parallelize([\n",
    "    ('b', 3.0), \n",
    "    ('c', 1.0), ('d', 1.0), \n",
    "    ('a', 2.0), ('c', 2.0), \n",
    "    ('b', 1/3), ('c', 1/3), ('d', 1/3) \n",
    "])\n",
    "#contributions.collect()\n",
    "generate_ranks(sc, contributions, 0.85).collect()"
   ]
  },
  {
   "cell_type": "code",
   "execution_count": 253,
   "metadata": {
    "deletable": false,
    "editable": false,
    "nbgrader": {
     "checksum": "96e3a5d5ecd8c718651ae76fef59658a",
     "grade": true,
     "grade_id": "cell-763f5c3a7606f7ce",
     "locked": true,
     "points": 2,
     "schema_version": 1,
     "solution": false
    }
   },
   "outputs": [],
   "source": [
    "\"\"\"\n",
    "Graded cell\n",
    "\n",
    "2 points\n",
    "\"\"\"\n",
    "contributions = sc.parallelize([\n",
    "    ('b', 3.0), \n",
    "    ('c', 1.0), ('d', 1.0), \n",
    "    ('a', 2.0), ('c', 2.0), \n",
    "    ('b', 1/3), ('c', 1/3), ('d', 1/3) \n",
    "])\n",
    "\n",
    "result = generate_ranks(sc, contributions, 0.85).collect() \n",
    "\n",
    "assert [v for k,v in result if k == 'a'][0] == 1.85\n",
    "assert [v for k,v in result if k == 'b'][0] - 2.98 < 0.1\n",
    "assert [v for k,v in result if k == 'c'][0] - 2.98 < 0.1\n",
    "assert [v for k,v in result if k == 'd'][0] - 1.28 < 0.1"
   ]
  },
  {
   "cell_type": "markdown",
   "metadata": {
    "deletable": false,
    "editable": false,
    "nbgrader": {
     "checksum": "864f9cbf79069ba1b4c623064411ebe6",
     "grade": false,
     "grade_id": "cell-073dff583c2e7e84",
     "locked": true,
     "schema_version": 1,
     "solution": false
    }
   },
   "source": [
    "---\n",
    "## Algorithm\n",
    "\n",
    "Let's build the iteration. At each step :\n",
    "\n",
    "1. Generate all contributions\n",
    "2. Generate and update ranks RDD\n",
    "\n",
    "# Question\n",
    "\n",
    "Let's create a Pandas dataframe with schema \\[a, b, c, d\\]. At each iteration, add a row with Pagerank value for each node in the corresponding column. Return the Pandas dataframe as a result so we can investigate it."
   ]
  },
  {
   "cell_type": "code",
   "execution_count": 352,
   "metadata": {
    "deletable": false,
    "editable": false,
    "nbgrader": {
     "checksum": "f58eb9bc0feaf9247ffb62d998bf6e6e",
     "grade": false,
     "grade_id": "cell-ad661c446d6d5027",
     "locked": true,
     "schema_version": 1,
     "solution": false
    }
   },
   "outputs": [],
   "source": [
    "def initialize(sc):\n",
    "    \"\"\"\n",
    "    Initialize links and ranks RDDs\n",
    "    \"\"\"\n",
    "    # Loads all URLs from input file and initialize their neighbors.\n",
    "    links = sc.parallelize([('a', 'b'), ('a', 'c'), ('a', 'd'), ('c', 'b'), ('b', 'c'), ('b', 'd'), ('d', 'a'), ('d', 'c')])\n",
    "    links = group_input(sc, links).cache() # put the links RDD in cache because it will be reused a lot\n",
    "\n",
    "    # Initialize all ranks to 0.25\n",
    "    ranks = links.keys().map(lambda url: (url, 0.25))\n",
    "    \n",
    "    return (links, ranks)"
   ]
  },
  {
   "cell_type": "code",
   "execution_count": null,
   "metadata": {},
   "outputs": [],
   "source": []
  },
  {
   "cell_type": "code",
   "execution_count": 397,
   "metadata": {
    "deletable": false,
    "nbgrader": {
     "checksum": "c8a746952304318b0640273b8c374cce",
     "grade": false,
     "grade_id": "cell-1b52f6cbe8b24b33",
     "locked": false,
     "schema_version": 1,
     "solution": true
    }
   },
   "outputs": [
    {
     "name": "stdout",
     "output_type": "stream",
     "text": [
      "At iteration 1\n",
      "[('b', [1, 0.43333333333333335]), ('b', [1, 0.43333333333333335]), ('c', [1, 0.43333333333333335]), ('c', [1, 0.43333333333333335]), ('c', [1, 0.43333333333333335]), ('a', [1, 0.25625000000000003]), ('d', [1, 0.32708333333333334]), ('d', [1, 0.32708333333333334])]\n",
      "At iteration 2\n",
      "[('b', [2, 1.3276041666666667]), ('b', [2, 1.3276041666666667]), ('b', [2, 1.3276041666666667]), ('b', [2, 1.3276041666666667]), ('c', [2, 0.8689583333333334]), ('c', [2, 0.8689583333333334]), ('c', [2, 0.8689583333333334]), ('c', [2, 0.8689583333333334]), ('c', [2, 0.8689583333333334]), ('d', [2, 0.5909375000000001]), ('d', [2, 0.5909375000000001]), ('d', [2, 0.5909375000000001]), ('a', [2, 0.42802083333333335]), ('a', [2, 0.42802083333333335])]\n"
     ]
    },
    {
     "data": {
      "text/html": [
       "<div>\n",
       "<style scoped>\n",
       "    .dataframe tbody tr th:only-of-type {\n",
       "        vertical-align: middle;\n",
       "    }\n",
       "\n",
       "    .dataframe tbody tr th {\n",
       "        vertical-align: top;\n",
       "    }\n",
       "\n",
       "    .dataframe thead th {\n",
       "        text-align: right;\n",
       "    }\n",
       "</style>\n",
       "<table border=\"1\" class=\"dataframe\">\n",
       "  <thead>\n",
       "    <tr style=\"text-align: right;\">\n",
       "      <th></th>\n",
       "      <th>a</th>\n",
       "      <th>b</th>\n",
       "      <th>c</th>\n",
       "      <th>d</th>\n",
       "    </tr>\n",
       "  </thead>\n",
       "  <tbody>\n",
       "    <tr>\n",
       "      <th>1</th>\n",
       "      <td>0.250000</td>\n",
       "      <td>0.250000</td>\n",
       "      <td>0.250000</td>\n",
       "      <td>0.250000</td>\n",
       "    </tr>\n",
       "    <tr>\n",
       "      <th>2</th>\n",
       "      <td>0.256250</td>\n",
       "      <td>0.433333</td>\n",
       "      <td>0.433333</td>\n",
       "      <td>0.327083</td>\n",
       "    </tr>\n",
       "    <tr>\n",
       "      <th>3</th>\n",
       "      <td>0.428021</td>\n",
       "      <td>1.327604</td>\n",
       "      <td>0.868958</td>\n",
       "      <td>0.590938</td>\n",
       "    </tr>\n",
       "  </tbody>\n",
       "</table>\n",
       "</div>"
      ],
      "text/plain": [
       "          a         b         c         d\n",
       "1  0.250000  0.250000  0.250000  0.250000\n",
       "2  0.256250  0.433333  0.433333  0.327083\n",
       "3  0.428021  1.327604  0.868958  0.590938"
      ]
     },
     "execution_count": 397,
     "metadata": {},
     "output_type": "execute_result"
    }
   ],
   "source": [
    "def main(sc, iterations, damping, links, ranks):\n",
    "    \"\"\"\n",
    "    Main logic. Return pandas dataframe with appended pageranks for each node in order of iterations.\n",
    "    \n",
    "    Example: \n",
    "    Index A B C D\n",
    "    1     1 2 3 4   <-- iteration 1\n",
    "    2     2 3 4 5   <-- iteration 2\n",
    "    ...\n",
    "    \"\"\"\n",
    "    columns = ['a', 'b', 'c', 'd']\n",
    "    pageranks = {\n",
    "        'a':[0.25], 'b':[0.25], 'c':[0.25], 'd':[0.25]\n",
    "    }\n",
    "    pageranks = sc.parallelize(pageranks.items()).map(lambda x: (x[0], (0, x[1][0])))\n",
    "    #df_start = pd.DataFrame(pageranks.collectAsMap(), columns=columns).copy()\n",
    "    #print(pageranks.collect())\n",
    "    df = pd.DataFrame(pageranks.collectAsMap(), columns=columns)\n",
    "    for iteration in range(iterations):\n",
    "        print(\"At iteration %s\" % (iteration + 1))\n",
    "        contributions = generate_contributions(sc, links, ranks)\n",
    "        #need to update ranks values\n",
    "        ranks = generate_ranks(sc, contributions, damping)\n",
    "        pageranks_row = generate_ranks(sc, contributions, damping).map(lambda x: (x[0], [iteration + 1, x[1]]))\n",
    "        pageranks = pageranks.union(pageranks_row)\n",
    "        print(pageranks_row.collect())\n",
    "        #raise NotImplementedError()\n",
    "        #pageranks.collect()\n",
    "        #pageranks = pageranks.collectAsMap()\n",
    "        #print(pageranks.collect())\n",
    "        df_row = pd.DataFrame(pageranks_row.collectAsMap(), columns=columns)\n",
    "        df = pd.concat([df, df_row.iloc[[1]]]).reset_index(drop=True)\n",
    "    df = df.iloc[1:]\n",
    "    #return pd.DataFrame(pageranks.collectAsMap(), columns=columns)\n",
    "    return df\n",
    "\n",
    "links, ranks = initialize(sc)\n",
    "result = main(sc, 2, 0.85, links, ranks)\n",
    "#print(result.to_dict()['a'][1])\n",
    "#print(result.to_dict()['b'][1])\n",
    "#print(result.to_dict()['c'][1])\n",
    "#print(result.to_dict()['d'][1])\n",
    "result.head()\n",
    "#result.plot()"
   ]
  },
  {
   "cell_type": "code",
   "execution_count": 344,
   "metadata": {
    "deletable": false,
    "editable": false,
    "nbgrader": {
     "checksum": "d48caa67f7ca6ef4b2bc767ae6906050",
     "grade": true,
     "grade_id": "cell-20beeb806608508b",
     "locked": true,
     "points": 5,
     "schema_version": 1,
     "solution": false
    }
   },
   "outputs": [
    {
     "name": "stdout",
     "output_type": "stream",
     "text": [
      "At iteration 1\n",
      "defaultdict(<class 'int'>, {'a': 3, 'c': 1, 'b': 2, 'd': 2})\n",
      "[('b', 0.25), ('c', 0.125), ('d', 0.125), ('a', 0.125), ('c', 0.125), ('b', 0.08333333333333333), ('c', 0.08333333333333333), ('d', 0.08333333333333333)]\n",
      "[('a', [0.25]), ('b', [0.25]), ('c', [0.25]), ('d', [0.25]), ('b', [0, 0.43333333333333335]), ('b', [0, 0.43333333333333335]), ('c', [0, 0.43333333333333335]), ('c', [0, 0.43333333333333335]), ('c', [0, 0.43333333333333335]), ('a', [0, 0.25625000000000003]), ('d', [0, 0.32708333333333334]), ('d', [0, 0.32708333333333334])]\n"
     ]
    },
    {
     "ename": "AssertionError",
     "evalue": "",
     "output_type": "error",
     "traceback": [
      "\u001b[0;31m---------------------------------------------------------------------------\u001b[0m",
      "\u001b[0;31mAssertionError\u001b[0m                            Traceback (most recent call last)",
      "\u001b[0;32m<ipython-input-344-2634a1e8d4c4>\u001b[0m in \u001b[0;36m<module>\u001b[0;34m\u001b[0m\n\u001b[1;32m      7\u001b[0m \u001b[0mresult\u001b[0m \u001b[0;34m=\u001b[0m \u001b[0mmain\u001b[0m\u001b[0;34m(\u001b[0m\u001b[0msc\u001b[0m\u001b[0;34m,\u001b[0m \u001b[0;36m1\u001b[0m\u001b[0;34m,\u001b[0m \u001b[0;36m0.85\u001b[0m\u001b[0;34m,\u001b[0m \u001b[0mlinks\u001b[0m\u001b[0;34m,\u001b[0m \u001b[0mranks\u001b[0m\u001b[0;34m)\u001b[0m\u001b[0;34m\u001b[0m\u001b[0;34m\u001b[0m\u001b[0m\n\u001b[1;32m      8\u001b[0m \u001b[0;34m\u001b[0m\u001b[0m\n\u001b[0;32m----> 9\u001b[0;31m \u001b[0;32massert\u001b[0m \u001b[0mresult\u001b[0m\u001b[0;34m.\u001b[0m\u001b[0mto_dict\u001b[0m\u001b[0;34m(\u001b[0m\u001b[0;34m)\u001b[0m\u001b[0;34m[\u001b[0m\u001b[0;34m'a'\u001b[0m\u001b[0;34m]\u001b[0m\u001b[0;34m[\u001b[0m\u001b[0;36m1\u001b[0m\u001b[0;34m]\u001b[0m \u001b[0;34m==\u001b[0m \u001b[0;36m0.25625\u001b[0m\u001b[0;34m\u001b[0m\u001b[0;34m\u001b[0m\u001b[0m\n\u001b[0m\u001b[1;32m     10\u001b[0m \u001b[0;32massert\u001b[0m \u001b[0mresult\u001b[0m\u001b[0;34m.\u001b[0m\u001b[0mto_dict\u001b[0m\u001b[0;34m(\u001b[0m\u001b[0;34m)\u001b[0m\u001b[0;34m[\u001b[0m\u001b[0;34m'b'\u001b[0m\u001b[0;34m]\u001b[0m\u001b[0;34m[\u001b[0m\u001b[0;36m1\u001b[0m\u001b[0;34m]\u001b[0m \u001b[0;34m-\u001b[0m \u001b[0;34m(\u001b[0m\u001b[0;36m0.1\u001b[0m \u001b[0;34m+\u001b[0m \u001b[0;36m1\u001b[0m\u001b[0;34m/\u001b[0m\u001b[0;36m3\u001b[0m\u001b[0;34m)\u001b[0m \u001b[0;34m<\u001b[0m \u001b[0;36m0.1\u001b[0m\u001b[0;34m\u001b[0m\u001b[0;34m\u001b[0m\u001b[0m\n\u001b[1;32m     11\u001b[0m \u001b[0;32massert\u001b[0m \u001b[0mresult\u001b[0m\u001b[0;34m.\u001b[0m\u001b[0mto_dict\u001b[0m\u001b[0;34m(\u001b[0m\u001b[0;34m)\u001b[0m\u001b[0;34m[\u001b[0m\u001b[0;34m'c'\u001b[0m\u001b[0;34m]\u001b[0m\u001b[0;34m[\u001b[0m\u001b[0;36m1\u001b[0m\u001b[0;34m]\u001b[0m \u001b[0;34m-\u001b[0m \u001b[0;34m(\u001b[0m\u001b[0;36m0.1\u001b[0m \u001b[0;34m+\u001b[0m \u001b[0;36m1\u001b[0m\u001b[0;34m/\u001b[0m\u001b[0;36m3\u001b[0m\u001b[0;34m)\u001b[0m \u001b[0;34m<\u001b[0m \u001b[0;36m0.1\u001b[0m\u001b[0;34m\u001b[0m\u001b[0;34m\u001b[0m\u001b[0m\n",
      "\u001b[0;31mAssertionError\u001b[0m: "
     ]
    }
   ],
   "source": [
    "\"\"\"\n",
    "Graded cell\n",
    "\n",
    "5 points\n",
    "\"\"\"\n",
    "links, ranks = initialize(sc)\n",
    "result = main(sc, 1, 0.85, links, ranks)\n",
    "\n",
    "assert result.to_dict()['a'][1] == 0.25625\n",
    "assert result.to_dict()['b'][1] - (0.1 + 1/3) < 0.1\n",
    "assert result.to_dict()['c'][1] - (0.1 + 1/3) < 0.1\n",
    "assert result.to_dict()['d'][1] - 0.327083 < 0.1"
   ]
  },
  {
   "cell_type": "code",
   "execution_count": 399,
   "metadata": {},
   "outputs": [
    {
     "name": "stdout",
     "output_type": "stream",
     "text": [
      "At iteration 1\n",
      "[('b', [1, 0.43333333333333335]), ('b', [1, 0.43333333333333335]), ('c', [1, 0.43333333333333335]), ('c', [1, 0.43333333333333335]), ('c', [1, 0.43333333333333335]), ('a', [1, 0.25625000000000003]), ('d', [1, 0.32708333333333334]), ('d', [1, 0.32708333333333334])]\n",
      "At iteration 2\n",
      "[('b', [2, 1.3276041666666667]), ('b', [2, 1.3276041666666667]), ('b', [2, 1.3276041666666667]), ('b', [2, 1.3276041666666667]), ('c', [2, 0.8689583333333334]), ('c', [2, 0.8689583333333334]), ('c', [2, 0.8689583333333334]), ('c', [2, 0.8689583333333334]), ('c', [2, 0.8689583333333334]), ('d', [2, 0.5909375000000001]), ('d', [2, 0.5909375000000001]), ('d', [2, 0.5909375000000001]), ('a', [2, 0.42802083333333335]), ('a', [2, 0.42802083333333335])]\n",
      "At iteration 3\n",
      "[('b', [3, 4.085618055555556]), ('b', [3, 4.085618055555556]), ('b', [3, 4.085618055555556]), ('b', [3, 4.085618055555556]), ('b', [3, 4.085618055555556]), ('b', [3, 4.085618055555556]), ('b', [3, 4.085618055555556]), ('a', [3, 0.9034453125000002]), ('a', [3, 0.9034453125000002]), ('a', [3, 0.9034453125000002]), ('d', [3, 2.6494722222222222]), ('d', [3, 2.6494722222222222]), ('d', [3, 2.6494722222222222]), ('d', [3, 2.6494722222222222]), ('d', [3, 2.6494722222222222]), ('d', [3, 2.6494722222222222]), ('c', [3, 3.4029175347222225]), ('c', [3, 3.4029175347222225]), ('c', [3, 3.4029175347222225]), ('c', [3, 3.4029175347222225]), ('c', [3, 3.4029175347222225]), ('c', [3, 3.4029175347222225]), ('c', [3, 3.4029175347222225]), ('c', [3, 3.4029175347222225]), ('c', [3, 3.4029175347222225])]\n",
      "At iteration 4\n",
      "[('c', [4, 19.828796397569448]), ('c', [4, 19.828796397569448]), ('c', [4, 19.828796397569448]), ('c', [4, 19.828796397569448]), ('c', [4, 19.828796397569448]), ('c', [4, 19.828796397569448]), ('c', [4, 19.828796397569448]), ('c', [4, 19.828796397569448]), ('c', [4, 19.828796397569448]), ('c', [4, 19.828796397569448]), ('c', [4, 19.828796397569448]), ('c', [4, 19.828796397569448]), ('c', [4, 19.828796397569448]), ('c', [4, 19.828796397569448]), ('c', [4, 19.828796397569448]), ('c', [4, 19.828796397569448]), ('a', [4, 6.906154166666667]), ('a', [4, 6.906154166666667]), ('a', [4, 6.906154166666667]), ('a', [4, 6.906154166666667]), ('a', [4, 6.906154166666667]), ('a', [4, 6.906154166666667]), ('b', [4, 26.950247656249992]), ('b', [4, 26.950247656249992]), ('b', [4, 26.950247656249992]), ('b', [4, 26.950247656249992]), ('b', [4, 26.950247656249992]), ('b', [4, 26.950247656249992]), ('b', [4, 26.950247656249992]), ('b', [4, 26.950247656249992]), ('b', [4, 26.950247656249992]), ('b', [4, 26.950247656249992]), ('b', [4, 26.950247656249992]), ('b', [4, 26.950247656249992]), ('d', [4, 13.07264223090278]), ('d', [4, 13.07264223090278]), ('d', [4, 13.07264223090278]), ('d', [4, 13.07264223090278]), ('d', [4, 13.07264223090278]), ('d', [4, 13.07264223090278]), ('d', [4, 13.07264223090278]), ('d', [4, 13.07264223090278]), ('d', [4, 13.07264223090278]), ('d', [4, 13.07264223090278])]\n",
      "At iteration 5\n",
      "[('c', [5, 204.89545461154506]), ('c', [5, 204.89545461154506]), ('c', [5, 204.89545461154506]), ('c', [5, 204.89545461154506]), ('c', [5, 204.89545461154506]), ('c', [5, 204.89545461154506]), ('c', [5, 204.89545461154506]), ('c', [5, 204.89545461154506]), ('c', [5, 204.89545461154506]), ('c', [5, 204.89545461154506]), ('c', [5, 204.89545461154506]), ('c', [5, 204.89545461154506]), ('c', [5, 204.89545461154506]), ('c', [5, 204.89545461154506]), ('c', [5, 204.89545461154506]), ('c', [5, 204.89545461154506]), ('c', [5, 204.89545461154506]), ('c', [5, 204.89545461154506]), ('c', [5, 204.89545461154506]), ('c', [5, 204.89545461154506]), ('c', [5, 204.89545461154506]), ('c', [5, 204.89545461154506]), ('c', [5, 204.89545461154506]), ('c', [5, 204.89545461154506]), ('c', [5, 204.89545461154506]), ('c', [5, 204.89545461154506]), ('c', [5, 204.89545461154506]), ('c', [5, 204.89545461154506]), ('b', [5, 281.5620930902779]), ('b', [5, 281.5620930902779]), ('b', [5, 281.5620930902779]), ('b', [5, 281.5620930902779]), ('b', [5, 281.5620930902779]), ('b', [5, 281.5620930902779]), ('b', [5, 281.5620930902779]), ('b', [5, 281.5620930902779]), ('b', [5, 281.5620930902779]), ('b', [5, 281.5620930902779]), ('b', [5, 281.5620930902779]), ('b', [5, 281.5620930902779]), ('b', [5, 281.5620930902779]), ('b', [5, 281.5620930902779]), ('b', [5, 281.5620930902779]), ('b', [5, 281.5620930902779]), ('b', [5, 281.5620930902779]), ('b', [5, 281.5620930902779]), ('b', [5, 281.5620930902779]), ('b', [5, 281.5620930902779]), ('b', [5, 281.5620930902779]), ('b', [5, 281.5620930902779]), ('d', [5, 149.3367251302083]), ('d', [5, 149.3367251302083]), ('d', [5, 149.3367251302083]), ('d', [5, 149.3367251302083]), ('d', [5, 149.3367251302083]), ('d', [5, 149.3367251302083]), ('d', [5, 149.3367251302083]), ('d', [5, 149.3367251302083]), ('d', [5, 149.3367251302083]), ('d', [5, 149.3367251302083]), ('d', [5, 149.3367251302083]), ('d', [5, 149.3367251302083]), ('d', [5, 149.3367251302083]), ('d', [5, 149.3367251302083]), ('d', [5, 149.3367251302083]), ('d', [5, 149.3367251302083]), ('d', [5, 149.3367251302083]), ('d', [5, 149.3367251302083]), ('a', [5, 55.70872948133679]), ('a', [5, 55.70872948133679]), ('a', [5, 55.70872948133679]), ('a', [5, 55.70872948133679]), ('a', [5, 55.70872948133679]), ('a', [5, 55.70872948133679]), ('a', [5, 55.70872948133679]), ('a', [5, 55.70872948133679]), ('a', [5, 55.70872948133679]), ('a', [5, 55.70872948133679])]\n"
     ]
    },
    {
     "data": {
      "text/plain": [
       "<matplotlib.axes._subplots.AxesSubplot at 0x7f64e0de5438>"
      ]
     },
     "execution_count": 399,
     "metadata": {},
     "output_type": "execute_result"
    },
    {
     "data": {
      "image/png": "[encoded data removed]",
      "text/plain": [
       "<Figure size 432x288 with 1 Axes>"
      ]
     },
     "metadata": {
      "needs_background": "light"
     },
     "output_type": "display_data"
    }
   ],
   "source": [
    "# I am generous, let me plot the DataFrame of pagerank evolution for you :)\n",
    "# beware, this cell takes a long time to run\n",
    "links, ranks = initialize(sc)\n",
    "result = main(sc, 5, 0.85, links, ranks)\n",
    "result.head()\n",
    "result.plot()"
   ]
  },
  {
   "cell_type": "code",
   "execution_count": 387,
   "metadata": {
    "deletable": false,
    "editable": false,
    "nbgrader": {
     "checksum": "b7272609a77f28261e80767bc6f6e25a",
     "grade": false,
     "grade_id": "cell-0865154406099572",
     "locked": true,
     "schema_version": 1,
     "solution": false
    }
   },
   "outputs": [
    {
     "name": "stdout",
     "output_type": "stream",
     "text": [
      "At iteration 1\n",
      "[('b', [1, 0.43333333333333335]), ('b', [1, 0.43333333333333335]), ('c', [1, 0.43333333333333335]), ('c', [1, 0.43333333333333335]), ('c', [1, 0.43333333333333335]), ('a', [1, 0.25625000000000003]), ('d', [1, 0.32708333333333334]), ('d', [1, 0.32708333333333334])]\n",
      "At iteration 2\n",
      "[('b', [2, 1.3276041666666667]), ('b', [2, 1.3276041666666667]), ('b', [2, 1.3276041666666667]), ('b', [2, 1.3276041666666667]), ('c', [2, 0.8689583333333334]), ('c', [2, 0.8689583333333334]), ('c', [2, 0.8689583333333334]), ('c', [2, 0.8689583333333334]), ('c', [2, 0.8689583333333334]), ('d', [2, 0.5909375000000001]), ('d', [2, 0.5909375000000001]), ('d', [2, 0.5909375000000001]), ('a', [2, 0.42802083333333335]), ('a', [2, 0.42802083333333335])]\n",
      "At iteration 3\n",
      "[('b', [3, 4.085618055555556]), ('b', [3, 4.085618055555556]), ('b', [3, 4.085618055555556]), ('b', [3, 4.085618055555556]), ('b', [3, 4.085618055555556]), ('b', [3, 4.085618055555556]), ('b', [3, 4.085618055555556]), ('a', [3, 0.9034453125000002]), ('a', [3, 0.9034453125000002]), ('a', [3, 0.9034453125000002]), ('d', [3, 2.6494722222222222]), ('d', [3, 2.6494722222222222]), ('d', [3, 2.6494722222222222]), ('d', [3, 2.6494722222222222]), ('d', [3, 2.6494722222222222]), ('d', [3, 2.6494722222222222]), ('c', [3, 3.4029175347222225]), ('c', [3, 3.4029175347222225]), ('c', [3, 3.4029175347222225]), ('c', [3, 3.4029175347222225]), ('c', [3, 3.4029175347222225]), ('c', [3, 3.4029175347222225]), ('c', [3, 3.4029175347222225]), ('c', [3, 3.4029175347222225]), ('c', [3, 3.4029175347222225])]\n",
      "At iteration 4\n",
      "[('c', [4, 19.828796397569448]), ('c', [4, 19.828796397569448]), ('c', [4, 19.828796397569448]), ('c', [4, 19.828796397569448]), ('c', [4, 19.828796397569448]), ('c', [4, 19.828796397569448]), ('c', [4, 19.828796397569448]), ('c', [4, 19.828796397569448]), ('c', [4, 19.828796397569448]), ('c', [4, 19.828796397569448]), ('c', [4, 19.828796397569448]), ('c', [4, 19.828796397569448]), ('c', [4, 19.828796397569448]), ('c', [4, 19.828796397569448]), ('c', [4, 19.828796397569448]), ('c', [4, 19.828796397569448]), ('a', [4, 6.906154166666667]), ('a', [4, 6.906154166666667]), ('a', [4, 6.906154166666667]), ('a', [4, 6.906154166666667]), ('a', [4, 6.906154166666667]), ('a', [4, 6.906154166666667]), ('b', [4, 26.950247656249992]), ('b', [4, 26.950247656249992]), ('b', [4, 26.950247656249992]), ('b', [4, 26.950247656249992]), ('b', [4, 26.950247656249992]), ('b', [4, 26.950247656249992]), ('b', [4, 26.950247656249992]), ('b', [4, 26.950247656249992]), ('b', [4, 26.950247656249992]), ('b', [4, 26.950247656249992]), ('b', [4, 26.950247656249992]), ('b', [4, 26.950247656249992]), ('d', [4, 13.07264223090278]), ('d', [4, 13.07264223090278]), ('d', [4, 13.07264223090278]), ('d', [4, 13.07264223090278]), ('d', [4, 13.07264223090278]), ('d', [4, 13.07264223090278]), ('d', [4, 13.07264223090278]), ('d', [4, 13.07264223090278]), ('d', [4, 13.07264223090278]), ('d', [4, 13.07264223090278])]\n",
      "At iteration 5\n",
      "[('c', [5, 204.89545461154506]), ('c', [5, 204.89545461154506]), ('c', [5, 204.89545461154506]), ('c', [5, 204.89545461154506]), ('c', [5, 204.89545461154506]), ('c', [5, 204.89545461154506]), ('c', [5, 204.89545461154506]), ('c', [5, 204.89545461154506]), ('c', [5, 204.89545461154506]), ('c', [5, 204.89545461154506]), ('c', [5, 204.89545461154506]), ('c', [5, 204.89545461154506]), ('c', [5, 204.89545461154506]), ('c', [5, 204.89545461154506]), ('c', [5, 204.89545461154506]), ('c', [5, 204.89545461154506]), ('c', [5, 204.89545461154506]), ('c', [5, 204.89545461154506]), ('c', [5, 204.89545461154506]), ('c', [5, 204.89545461154506]), ('c', [5, 204.89545461154506]), ('c', [5, 204.89545461154506]), ('c', [5, 204.89545461154506]), ('c', [5, 204.89545461154506]), ('c', [5, 204.89545461154506]), ('c', [5, 204.89545461154506]), ('c', [5, 204.89545461154506]), ('c', [5, 204.89545461154506]), ('b', [5, 281.5620930902779]), ('b', [5, 281.5620930902779]), ('b', [5, 281.5620930902779]), ('b', [5, 281.5620930902779]), ('b', [5, 281.5620930902779]), ('b', [5, 281.5620930902779]), ('b', [5, 281.5620930902779]), ('b', [5, 281.5620930902779]), ('b', [5, 281.5620930902779]), ('b', [5, 281.5620930902779]), ('b', [5, 281.5620930902779]), ('b', [5, 281.5620930902779]), ('b', [5, 281.5620930902779]), ('b', [5, 281.5620930902779]), ('b', [5, 281.5620930902779]), ('b', [5, 281.5620930902779]), ('b', [5, 281.5620930902779]), ('b', [5, 281.5620930902779]), ('b', [5, 281.5620930902779]), ('b', [5, 281.5620930902779]), ('b', [5, 281.5620930902779]), ('b', [5, 281.5620930902779]), ('d', [5, 149.3367251302083]), ('d', [5, 149.3367251302083]), ('d', [5, 149.3367251302083]), ('d', [5, 149.3367251302083]), ('d', [5, 149.3367251302083]), ('d', [5, 149.3367251302083]), ('d', [5, 149.3367251302083]), ('d', [5, 149.3367251302083]), ('d', [5, 149.3367251302083]), ('d', [5, 149.3367251302083]), ('d', [5, 149.3367251302083]), ('d', [5, 149.3367251302083]), ('d', [5, 149.3367251302083]), ('d', [5, 149.3367251302083]), ('d', [5, 149.3367251302083]), ('d', [5, 149.3367251302083]), ('d', [5, 149.3367251302083]), ('d', [5, 149.3367251302083]), ('a', [5, 55.70872948133679]), ('a', [5, 55.70872948133679]), ('a', [5, 55.70872948133679]), ('a', [5, 55.70872948133679]), ('a', [5, 55.70872948133679]), ('a', [5, 55.70872948133679]), ('a', [5, 55.70872948133679]), ('a', [5, 55.70872948133679]), ('a', [5, 55.70872948133679]), ('a', [5, 55.70872948133679])]\n",
      "At iteration 6\n",
      "[('b', [6, 5034.50321995189]), ('b', [6, 5034.50321995189]), ('b', [6, 5034.50321995189]), ('b', [6, 5034.50321995189]), ('b', [6, 5034.50321995189]), ('b', [6, 5034.50321995189]), ('b', [6, 5034.50321995189]), ('b', [6, 5034.50321995189]), ('b', [6, 5034.50321995189]), ('b', [6, 5034.50321995189]), ('b', [6, 5034.50321995189]), ('b', [6, 5034.50321995189]), ('b', [6, 5034.50321995189]), ('b', [6, 5034.50321995189]), ('b', [6, 5034.50321995189]), ('b', [6, 5034.50321995189]), ('b', [6, 5034.50321995189]), ('b', [6, 5034.50321995189]), ('b', [6, 5034.50321995189]), ('b', [6, 5034.50321995189]), ('b', [6, 5034.50321995189]), ('b', [6, 5034.50321995189]), ('b', [6, 5034.50321995189]), ('b', [6, 5034.50321995189]), ('b', [6, 5034.50321995189]), ('b', [6, 5034.50321995189]), ('b', [6, 5034.50321995189]), ('b', [6, 5034.50321995189]), ('b', [6, 5034.50321995189]), ('b', [6, 5034.50321995189]), ('b', [6, 5034.50321995189]), ('b', [6, 5034.50321995189]), ('b', [6, 5034.50321995189]), ('b', [6, 5034.50321995189]), ('b', [6, 5034.50321995189]), ('b', [6, 5034.50321995189]), ('b', [6, 5034.50321995189]), ('b', [6, 5034.50321995189]), ('c', [6, 3933.022917837313]), ('c', [6, 3933.022917837313]), ('c', [6, 3933.022917837313]), ('c', [6, 3933.022917837313]), ('c', [6, 3933.022917837313]), ('c', [6, 3933.022917837313]), ('c', [6, 3933.022917837313]), ('c', [6, 3933.022917837313]), ('c', [6, 3933.022917837313]), ('c', [6, 3933.022917837313]), ('c', [6, 3933.022917837313]), ('c', [6, 3933.022917837313]), ('c', [6, 3933.022917837313]), ('c', [6, 3933.022917837313]), ('c', [6, 3933.022917837313]), ('c', [6, 3933.022917837313]), ('c', [6, 3933.022917837313]), ('c', [6, 3933.022917837313]), ('c', [6, 3933.022917837313]), ('c', [6, 3933.022917837313]), ('c', [6, 3933.022917837313]), ('c', [6, 3933.022917837313]), ('c', [6, 3933.022917837313]), ('c', [6, 3933.022917837313]), ('c', [6, 3933.022917837313]), ('c', [6, 3933.022917837313]), ('c', [6, 3933.022917837313]), ('c', [6, 3933.022917837313]), ('c', [6, 3933.022917837313]), ('c', [6, 3933.022917837313]), ('c', [6, 3933.022917837313]), ('c', [6, 3933.022917837313]), ('c', [6, 3933.022917837313]), ('c', [6, 3933.022917837313]), ('c', [6, 3933.022917837313]), ('c', [6, 3933.022917837313]), ('c', [6, 3933.022917837313]), ('c', [6, 3933.022917837313]), ('c', [6, 3933.022917837313]), ('c', [6, 3933.022917837313]), ('c', [6, 3933.022917837313]), ('c', [6, 3933.022917837313]), ('c', [6, 3933.022917837313]), ('c', [6, 3933.022917837313]), ('c', [6, 3933.022917837313]), ('c', [6, 3933.022917837313]), ('c', [6, 3933.022917837313]), ('c', [6, 3933.022917837313]), ('c', [6, 3933.022917837313]), ('c', [6, 3933.022917837313]), ('d', [6, 2790.596970591219]), ('d', [6, 2790.596970591219]), ('d', [6, 2790.596970591219]), ('d', [6, 2790.596970591219]), ('d', [6, 2790.596970591219]), ('d', [6, 2790.596970591219]), ('d', [6, 2790.596970591219]), ('d', [6, 2790.596970591219]), ('d', [6, 2790.596970591219]), ('d', [6, 2790.596970591219]), ('d', [6, 2790.596970591219]), ('d', [6, 2790.596970591219]), ('d', [6, 2790.596970591219]), ('d', [6, 2790.596970591219]), ('d', [6, 2790.596970591219]), ('d', [6, 2790.596970591219]), ('d', [6, 2790.596970591219]), ('d', [6, 2790.596970591219]), ('d', [6, 2790.596970591219]), ('d', [6, 2790.596970591219]), ('d', [6, 2790.596970591219]), ('d', [6, 2790.596970591219]), ('d', [6, 2790.596970591219]), ('d', [6, 2790.596970591219]), ('d', [6, 2790.596970591219]), ('d', [6, 2790.596970591219]), ('d', [6, 2790.596970591219]), ('d', [6, 2790.596970591219]), ('d', [6, 2790.596970591219]), ('d', [6, 2790.596970591219]), ('d', [6, 2790.596970591219]), ('d', [6, 2790.596970591219]), ('a', [6, 1142.5759472460938]), ('a', [6, 1142.5759472460938]), ('a', [6, 1142.5759472460938]), ('a', [6, 1142.5759472460938]), ('a', [6, 1142.5759472460938]), ('a', [6, 1142.5759472460938]), ('a', [6, 1142.5759472460938]), ('a', [6, 1142.5759472460938]), ('a', [6, 1142.5759472460938]), ('a', [6, 1142.5759472460938]), ('a', [6, 1142.5759472460938]), ('a', [6, 1142.5759472460938]), ('a', [6, 1142.5759472460938]), ('a', [6, 1142.5759472460938]), ('a', [6, 1142.5759472460938]), ('a', [6, 1142.5759472460938]), ('a', [6, 1142.5759472460938]), ('a', [6, 1142.5759472460938])]\n"
     ]
    },
    {
     "name": "stdout",
     "output_type": "stream",
     "text": [
      "At iteration 7\n"
     ]
    },
    {
     "ename": "KeyboardInterrupt",
     "evalue": "",
     "output_type": "error",
     "traceback": [
      "\u001b[0;31m---------------------------------------------------------------------------\u001b[0m",
      "\u001b[0;31mKeyboardInterrupt\u001b[0m                         Traceback (most recent call last)",
      "\u001b[0;32m<ipython-input-387-372c830db831>\u001b[0m in \u001b[0;36m<module>\u001b[0;34m\u001b[0m\n\u001b[1;32m      2\u001b[0m \u001b[0;31m# beware, this cell takes a long time to run\u001b[0m\u001b[0;34m\u001b[0m\u001b[0;34m\u001b[0m\u001b[0;34m\u001b[0m\u001b[0m\n\u001b[1;32m      3\u001b[0m \u001b[0mlinks\u001b[0m\u001b[0;34m,\u001b[0m \u001b[0mranks\u001b[0m \u001b[0;34m=\u001b[0m \u001b[0minitialize\u001b[0m\u001b[0;34m(\u001b[0m\u001b[0msc\u001b[0m\u001b[0;34m)\u001b[0m\u001b[0;34m\u001b[0m\u001b[0;34m\u001b[0m\u001b[0m\n\u001b[0;32m----> 4\u001b[0;31m \u001b[0mresult\u001b[0m \u001b[0;34m=\u001b[0m \u001b[0mmain\u001b[0m\u001b[0;34m(\u001b[0m\u001b[0msc\u001b[0m\u001b[0;34m,\u001b[0m \u001b[0;36m25\u001b[0m\u001b[0;34m,\u001b[0m \u001b[0;36m0.85\u001b[0m\u001b[0;34m,\u001b[0m \u001b[0mlinks\u001b[0m\u001b[0;34m,\u001b[0m \u001b[0mranks\u001b[0m\u001b[0;34m)\u001b[0m\u001b[0;34m\u001b[0m\u001b[0;34m\u001b[0m\u001b[0m\n\u001b[0m\u001b[1;32m      5\u001b[0m \u001b[0mresult\u001b[0m\u001b[0;34m.\u001b[0m\u001b[0mplot\u001b[0m\u001b[0;34m(\u001b[0m\u001b[0;34m)\u001b[0m\u001b[0;34m\u001b[0m\u001b[0;34m\u001b[0m\u001b[0m\n",
      "\u001b[0;32m<ipython-input-386-eb1810e9ce34>\u001b[0m in \u001b[0;36mmain\u001b[0;34m(sc, iterations, damping, links, ranks)\u001b[0m\n\u001b[1;32m     24\u001b[0m         \u001b[0mpageranks_row\u001b[0m \u001b[0;34m=\u001b[0m \u001b[0mgenerate_ranks\u001b[0m\u001b[0;34m(\u001b[0m\u001b[0msc\u001b[0m\u001b[0;34m,\u001b[0m \u001b[0mcontributions\u001b[0m\u001b[0;34m,\u001b[0m \u001b[0mdamping\u001b[0m\u001b[0;34m)\u001b[0m\u001b[0;34m.\u001b[0m\u001b[0mmap\u001b[0m\u001b[0;34m(\u001b[0m\u001b[0;32mlambda\u001b[0m \u001b[0mx\u001b[0m\u001b[0;34m:\u001b[0m \u001b[0;34m(\u001b[0m\u001b[0mx\u001b[0m\u001b[0;34m[\u001b[0m\u001b[0;36m0\u001b[0m\u001b[0;34m]\u001b[0m\u001b[0;34m,\u001b[0m \u001b[0;34m[\u001b[0m\u001b[0miteration\u001b[0m \u001b[0;34m+\u001b[0m \u001b[0;36m1\u001b[0m\u001b[0;34m,\u001b[0m \u001b[0mx\u001b[0m\u001b[0;34m[\u001b[0m\u001b[0;36m1\u001b[0m\u001b[0;34m]\u001b[0m\u001b[0;34m]\u001b[0m\u001b[0;34m)\u001b[0m\u001b[0;34m)\u001b[0m\u001b[0;34m\u001b[0m\u001b[0;34m\u001b[0m\u001b[0m\n\u001b[1;32m     25\u001b[0m         \u001b[0mpageranks\u001b[0m \u001b[0;34m=\u001b[0m \u001b[0mpageranks\u001b[0m\u001b[0;34m.\u001b[0m\u001b[0munion\u001b[0m\u001b[0;34m(\u001b[0m\u001b[0mpageranks_row\u001b[0m\u001b[0;34m)\u001b[0m\u001b[0;34m\u001b[0m\u001b[0;34m\u001b[0m\u001b[0m\n\u001b[0;32m---> 26\u001b[0;31m         \u001b[0mprint\u001b[0m\u001b[0;34m(\u001b[0m\u001b[0mpageranks_row\u001b[0m\u001b[0;34m.\u001b[0m\u001b[0mcollect\u001b[0m\u001b[0;34m(\u001b[0m\u001b[0;34m)\u001b[0m\u001b[0;34m)\u001b[0m\u001b[0;34m\u001b[0m\u001b[0;34m\u001b[0m\u001b[0m\n\u001b[0m\u001b[1;32m     27\u001b[0m         \u001b[0;31m#raise NotImplementedError()\u001b[0m\u001b[0;34m\u001b[0m\u001b[0;34m\u001b[0m\u001b[0;34m\u001b[0m\u001b[0m\n\u001b[1;32m     28\u001b[0m         \u001b[0;31m#pageranks.collect()\u001b[0m\u001b[0;34m\u001b[0m\u001b[0;34m\u001b[0m\u001b[0;34m\u001b[0m\u001b[0m\n",
      "\u001b[0;32m~/anaconda3/envs/pyspark/lib/python3.6/site-packages/pyspark/rdd.py\u001b[0m in \u001b[0;36mcollect\u001b[0;34m(self)\u001b[0m\n\u001b[1;32m    814\u001b[0m         \"\"\"\n\u001b[1;32m    815\u001b[0m         \u001b[0;32mwith\u001b[0m \u001b[0mSCCallSiteSync\u001b[0m\u001b[0;34m(\u001b[0m\u001b[0mself\u001b[0m\u001b[0;34m.\u001b[0m\u001b[0mcontext\u001b[0m\u001b[0;34m)\u001b[0m \u001b[0;32mas\u001b[0m \u001b[0mcss\u001b[0m\u001b[0;34m:\u001b[0m\u001b[0;34m\u001b[0m\u001b[0;34m\u001b[0m\u001b[0m\n\u001b[0;32m--> 816\u001b[0;31m             \u001b[0msock_info\u001b[0m \u001b[0;34m=\u001b[0m \u001b[0mself\u001b[0m\u001b[0;34m.\u001b[0m\u001b[0mctx\u001b[0m\u001b[0;34m.\u001b[0m\u001b[0m_jvm\u001b[0m\u001b[0;34m.\u001b[0m\u001b[0mPythonRDD\u001b[0m\u001b[0;34m.\u001b[0m\u001b[0mcollectAndServe\u001b[0m\u001b[0;34m(\u001b[0m\u001b[0mself\u001b[0m\u001b[0;34m.\u001b[0m\u001b[0m_jrdd\u001b[0m\u001b[0;34m.\u001b[0m\u001b[0mrdd\u001b[0m\u001b[0;34m(\u001b[0m\u001b[0;34m)\u001b[0m\u001b[0;34m)\u001b[0m\u001b[0;34m\u001b[0m\u001b[0;34m\u001b[0m\u001b[0m\n\u001b[0m\u001b[1;32m    817\u001b[0m         \u001b[0;32mreturn\u001b[0m \u001b[0mlist\u001b[0m\u001b[0;34m(\u001b[0m\u001b[0m_load_from_socket\u001b[0m\u001b[0;34m(\u001b[0m\u001b[0msock_info\u001b[0m\u001b[0;34m,\u001b[0m \u001b[0mself\u001b[0m\u001b[0;34m.\u001b[0m\u001b[0m_jrdd_deserializer\u001b[0m\u001b[0;34m)\u001b[0m\u001b[0;34m)\u001b[0m\u001b[0;34m\u001b[0m\u001b[0;34m\u001b[0m\u001b[0m\n\u001b[1;32m    818\u001b[0m \u001b[0;34m\u001b[0m\u001b[0m\n",
      "\u001b[0;32m~/anaconda3/envs/pyspark/lib/python3.6/site-packages/py4j/java_gateway.py\u001b[0m in \u001b[0;36m__call__\u001b[0;34m(self, *args)\u001b[0m\n\u001b[1;32m   1253\u001b[0m             \u001b[0mproto\u001b[0m\u001b[0;34m.\u001b[0m\u001b[0mEND_COMMAND_PART\u001b[0m\u001b[0;34m\u001b[0m\u001b[0;34m\u001b[0m\u001b[0m\n\u001b[1;32m   1254\u001b[0m \u001b[0;34m\u001b[0m\u001b[0m\n\u001b[0;32m-> 1255\u001b[0;31m         \u001b[0manswer\u001b[0m \u001b[0;34m=\u001b[0m \u001b[0mself\u001b[0m\u001b[0;34m.\u001b[0m\u001b[0mgateway_client\u001b[0m\u001b[0;34m.\u001b[0m\u001b[0msend_command\u001b[0m\u001b[0;34m(\u001b[0m\u001b[0mcommand\u001b[0m\u001b[0;34m)\u001b[0m\u001b[0;34m\u001b[0m\u001b[0;34m\u001b[0m\u001b[0m\n\u001b[0m\u001b[1;32m   1256\u001b[0m         return_value = get_return_value(\n\u001b[1;32m   1257\u001b[0m             answer, self.gateway_client, self.target_id, self.name)\n",
      "\u001b[0;32m~/anaconda3/envs/pyspark/lib/python3.6/site-packages/py4j/java_gateway.py\u001b[0m in \u001b[0;36msend_command\u001b[0;34m(self, command, retry, binary)\u001b[0m\n\u001b[1;32m    983\u001b[0m         \u001b[0mconnection\u001b[0m \u001b[0;34m=\u001b[0m \u001b[0mself\u001b[0m\u001b[0;34m.\u001b[0m\u001b[0m_get_connection\u001b[0m\u001b[0;34m(\u001b[0m\u001b[0;34m)\u001b[0m\u001b[0;34m\u001b[0m\u001b[0;34m\u001b[0m\u001b[0m\n\u001b[1;32m    984\u001b[0m         \u001b[0;32mtry\u001b[0m\u001b[0;34m:\u001b[0m\u001b[0;34m\u001b[0m\u001b[0;34m\u001b[0m\u001b[0m\n\u001b[0;32m--> 985\u001b[0;31m             \u001b[0mresponse\u001b[0m \u001b[0;34m=\u001b[0m \u001b[0mconnection\u001b[0m\u001b[0;34m.\u001b[0m\u001b[0msend_command\u001b[0m\u001b[0;34m(\u001b[0m\u001b[0mcommand\u001b[0m\u001b[0;34m)\u001b[0m\u001b[0;34m\u001b[0m\u001b[0;34m\u001b[0m\u001b[0m\n\u001b[0m\u001b[1;32m    986\u001b[0m             \u001b[0;32mif\u001b[0m \u001b[0mbinary\u001b[0m\u001b[0;34m:\u001b[0m\u001b[0;34m\u001b[0m\u001b[0;34m\u001b[0m\u001b[0m\n\u001b[1;32m    987\u001b[0m                 \u001b[0;32mreturn\u001b[0m \u001b[0mresponse\u001b[0m\u001b[0;34m,\u001b[0m \u001b[0mself\u001b[0m\u001b[0;34m.\u001b[0m\u001b[0m_create_connection_guard\u001b[0m\u001b[0;34m(\u001b[0m\u001b[0mconnection\u001b[0m\u001b[0;34m)\u001b[0m\u001b[0;34m\u001b[0m\u001b[0;34m\u001b[0m\u001b[0m\n",
      "\u001b[0;32m~/anaconda3/envs/pyspark/lib/python3.6/site-packages/py4j/java_gateway.py\u001b[0m in \u001b[0;36msend_command\u001b[0;34m(self, command)\u001b[0m\n\u001b[1;32m   1150\u001b[0m \u001b[0;34m\u001b[0m\u001b[0m\n\u001b[1;32m   1151\u001b[0m         \u001b[0;32mtry\u001b[0m\u001b[0;34m:\u001b[0m\u001b[0;34m\u001b[0m\u001b[0;34m\u001b[0m\u001b[0m\n\u001b[0;32m-> 1152\u001b[0;31m             \u001b[0manswer\u001b[0m \u001b[0;34m=\u001b[0m \u001b[0msmart_decode\u001b[0m\u001b[0;34m(\u001b[0m\u001b[0mself\u001b[0m\u001b[0;34m.\u001b[0m\u001b[0mstream\u001b[0m\u001b[0;34m.\u001b[0m\u001b[0mreadline\u001b[0m\u001b[0;34m(\u001b[0m\u001b[0;34m)\u001b[0m\u001b[0;34m[\u001b[0m\u001b[0;34m:\u001b[0m\u001b[0;34m-\u001b[0m\u001b[0;36m1\u001b[0m\u001b[0;34m]\u001b[0m\u001b[0;34m)\u001b[0m\u001b[0;34m\u001b[0m\u001b[0;34m\u001b[0m\u001b[0m\n\u001b[0m\u001b[1;32m   1153\u001b[0m             \u001b[0mlogger\u001b[0m\u001b[0;34m.\u001b[0m\u001b[0mdebug\u001b[0m\u001b[0;34m(\u001b[0m\u001b[0;34m\"Answer received: {0}\"\u001b[0m\u001b[0;34m.\u001b[0m\u001b[0mformat\u001b[0m\u001b[0;34m(\u001b[0m\u001b[0manswer\u001b[0m\u001b[0;34m)\u001b[0m\u001b[0;34m)\u001b[0m\u001b[0;34m\u001b[0m\u001b[0;34m\u001b[0m\u001b[0m\n\u001b[1;32m   1154\u001b[0m             \u001b[0;32mif\u001b[0m \u001b[0manswer\u001b[0m\u001b[0;34m.\u001b[0m\u001b[0mstartswith\u001b[0m\u001b[0;34m(\u001b[0m\u001b[0mproto\u001b[0m\u001b[0;34m.\u001b[0m\u001b[0mRETURN_MESSAGE\u001b[0m\u001b[0;34m)\u001b[0m\u001b[0;34m:\u001b[0m\u001b[0;34m\u001b[0m\u001b[0;34m\u001b[0m\u001b[0m\n",
      "\u001b[0;32m~/anaconda3/envs/pyspark/lib/python3.6/socket.py\u001b[0m in \u001b[0;36mreadinto\u001b[0;34m(self, b)\u001b[0m\n\u001b[1;32m    584\u001b[0m         \u001b[0;32mwhile\u001b[0m \u001b[0;32mTrue\u001b[0m\u001b[0;34m:\u001b[0m\u001b[0;34m\u001b[0m\u001b[0;34m\u001b[0m\u001b[0m\n\u001b[1;32m    585\u001b[0m             \u001b[0;32mtry\u001b[0m\u001b[0;34m:\u001b[0m\u001b[0;34m\u001b[0m\u001b[0;34m\u001b[0m\u001b[0m\n\u001b[0;32m--> 586\u001b[0;31m                 \u001b[0;32mreturn\u001b[0m \u001b[0mself\u001b[0m\u001b[0;34m.\u001b[0m\u001b[0m_sock\u001b[0m\u001b[0;34m.\u001b[0m\u001b[0mrecv_into\u001b[0m\u001b[0;34m(\u001b[0m\u001b[0mb\u001b[0m\u001b[0;34m)\u001b[0m\u001b[0;34m\u001b[0m\u001b[0;34m\u001b[0m\u001b[0m\n\u001b[0m\u001b[1;32m    587\u001b[0m             \u001b[0;32mexcept\u001b[0m \u001b[0mtimeout\u001b[0m\u001b[0;34m:\u001b[0m\u001b[0;34m\u001b[0m\u001b[0;34m\u001b[0m\u001b[0m\n\u001b[1;32m    588\u001b[0m                 \u001b[0mself\u001b[0m\u001b[0;34m.\u001b[0m\u001b[0m_timeout_occurred\u001b[0m \u001b[0;34m=\u001b[0m \u001b[0;32mTrue\u001b[0m\u001b[0;34m\u001b[0m\u001b[0;34m\u001b[0m\u001b[0m\n",
      "\u001b[0;31mKeyboardInterrupt\u001b[0m: "
     ]
    }
   ],
   "source": [
    "# I am generous, let me plot the DataFrame of pagerank evolution for you :)\n",
    "# beware, this cell takes a long time to run\n",
    "links, ranks = initialize(sc)\n",
    "result = main(sc, 25, 0.85, links, ranks)\n",
    "result.plot()"
   ]
  },
  {
   "cell_type": "code",
   "execution_count": null,
   "metadata": {
    "deletable": false,
    "editable": false,
    "nbgrader": {
     "checksum": "7d28a5f8c6864f83f6809c09de8d0adc",
     "grade": false,
     "grade_id": "cell-9ee5ac50e5280da2",
     "locked": true,
     "schema_version": 1,
     "solution": false
    }
   },
   "outputs": [],
   "source": [
    "sc.stop()"
   ]
  }
 ],
 "metadata": {
  "kernelspec": {
   "display_name": "Python 3",
   "language": "python",
   "name": "python3"
  },
  "language_info": {
   "codemirror_mode": {
    "name": "ipython",
    "version": 3
   },
   "file_extension": ".py",
   "mimetype": "text/x-python",
   "name": "python",
   "nbconvert_exporter": "python",
   "pygments_lexer": "ipython3",
   "version": "3.6.8"
  }
 },
 "nbformat": 4,
 "nbformat_minor": 2
}
